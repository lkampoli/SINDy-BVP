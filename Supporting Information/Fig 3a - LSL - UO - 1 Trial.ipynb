{
 "cells": [
  {
   "cell_type": "markdown",
   "metadata": {},
   "source": [
    "## Linear Sturm-Liouville Problem\n",
    "\n",
    "### Overview:\n",
    "For details on problem formulation, visit the data folder and view the dataset for System 1.\n",
    "\n",
    "Noise: None (0% $\\sigma$)\n",
    "\n",
    "Known Operator? No.\n",
    "\n",
    "\n",
    "### Learning Goals\n",
    "\n",
    "Knowns: $f_j(x)$ forcing functions and observed responses $u_j(x)$ \n",
    "\n",
    "Unknowns: Operator $L$, parametric coefficients $p(x)$ and $q(x)$\n",
    "\n",
    "----------------\n",
    "\n",
    "Input: Observations of $u_j(x)$ and the corresponding forcings $f_j(x)$\n",
    "\n",
    "Output: Operator $L$, including parametric coefficients $p(x)$ and $q(x)$\n"
   ]
  },
  {
   "cell_type": "code",
   "execution_count": 1,
   "metadata": {},
   "outputs": [
    {
     "name": "stdout",
     "output_type": "stream",
     "text": [
      "Random seed: 0\n"
     ]
    }
   ],
   "source": [
    "%load_ext autoreload\n",
    "%autoreload 2\n",
    "\n",
    "# Import Python packages\n",
    "import pickle\n",
    "import sys\n",
    "sys.path.append(\"..\")\n",
    "\n",
    "# Third-Party Imports\n",
    "import matplotlib.pyplot as plt\n",
    "from sklearn.model_selection import train_test_split\n",
    "\n",
    "# Package Imports\n",
    "from tools.variables import DependentVariable, IndependentVariable\n",
    "from tools.term_builder import TermBuilder, build_datapools, NoiseMaker\n",
    "from tools.differentiator import Differentiator, FiniteDiff\n",
    "from tools.regressions import *\n",
    "from tools.NoiseMaker import NoiseMaker\n",
    "from tools.misc import report_learning_results\n",
    "from tools.plotter3 import Plotter, compute_coefficients\n",
    "from tools.Grouper import PointwiseGrouper\n",
    "from tools.GroupRegressor import GroupRegressor\n",
    "\n",
    "# Use 0 for seeding random state in data randomization (for consistency)\n",
    "seed = 0\n",
    "print(\"Random seed:\", seed)"
   ]
  },
  {
   "cell_type": "code",
   "execution_count": 9,
   "metadata": {},
   "outputs": [],
   "source": [
    "## Step 1. Load in the data\n",
    "file_stem = \"../data/S1-LSL-\"\n",
    "\n",
    "x_array = pickle.load(open(file_stem +\"x.pickle\", \"rb\"))\n",
    "ode_sols = pickle.load(open(file_stem +\"sols.pickle\", \"rb\"))\n",
    "forcings = pickle.load(open(file_stem + \"fs.pickle\", \"rb\"))\n",
    "sl_coeffs = pickle.load(open(file_stem + \"coeffs.pickle\", \"rb\"))\n",
    "\n",
    "## Step 2. Split data into testing and training\n",
    "num_trials = 1 # Number of trials to use for observation\n",
    "sol_train, sol_test, f_train, f_test = train_test_split(ode_sols, forcings, train_size=num_trials, random_state = seed)\n",
    "\n",
    "## Step 3. Build datapool matrices\n",
    "# Datapools are a matrix of numerically evaluated terms, which will be used to create each $\\Theta^(k)$ to learn $\\Xi$\n",
    "\n",
    "differentiator = Differentiator(diff_order = 2, diff_method = 'FD', ) # finite differences\n",
    "lhs_term = 'd^{2}u/dx^{2}' # Set LHS term for regression\n",
    "train_dps = build_datapools(sol_train, differentiator, lhs_term, f_train) # build the matrices using training data\n",
    "\n",
    "## Step 4. Create group regressor and provide optimization function\n",
    "# Define the regression function as a lambda function which only expects lists of Thetas, LHSs as inputs\n",
    "RegFunc = lambda Thetas, LHSs: TrainSGTRidge3(Thetas, LHSs, num_tols = 50, lam = 1e-5, epsilon = 1e-6, normalize = 2)\n",
    "\n",
    "# Create the group regressor (Uses SGTR regression function above)\n",
    "groupreg = GroupRegressor(RegFunc, PointwiseGrouper(lhs_term = lhs_term), train_dps, 'x')"
   ]
  },
  {
   "cell_type": "code",
   "execution_count": 10,
   "metadata": {},
   "outputs": [
    {
     "name": "stdout",
     "output_type": "stream",
     "text": [
      "Possible terms:\n",
      "['x', 'x^{-1}', 'x^{2}', 'x^{-2}', 'x^{3}', 'x^{-3}', 'x^{4}', 'x^{-4}', 'u', 'u^{2}', 'u^{3}', 'u^{4}', 'u^{5}', 'du/dx', 'u*du/dx', 'u^{2}*du/dx', 'u^{3}*du/dx', 'u^{4}*du/dx', 'u^{5}*du/dx', 'f']\n",
      "\n",
      "PDE Find Method:\n",
      "Minimum Error:  -13826.326562703285\n",
      "Selected:  1  term(s).\n",
      "u :  29839.11653456409 28.651110496789116 942.6889763004688\n",
      "Wall time: 29.1 s\n"
     ]
    }
   ],
   "source": [
    "%%time\n",
    "## Step 5. Group regression\n",
    "groupreg.group_regression()  # Regress coefficients\n",
    "groupreg.report_learning_results()  # Report the learned coefficients"
   ]
  },
  {
   "cell_type": "code",
   "execution_count": 11,
   "metadata": {
    "scrolled": false
   },
   "outputs": [
    {
     "ename": "KeyError",
     "evalue": "'f'",
     "output_type": "error",
     "traceback": [
      "\u001b[1;31m---------------------------------------------------------------------------\u001b[0m",
      "\u001b[1;31mKeyError\u001b[0m                                  Traceback (most recent call last)",
      "\u001b[1;32m<ipython-input-11-1b508acf24e3>\u001b[0m in \u001b[0;36m<module>\u001b[1;34m\u001b[0m\n\u001b[0;32m     13\u001b[0m                              \u001b[0mode_sols\u001b[0m\u001b[1;33m=\u001b[0m\u001b[0mode_sols\u001b[0m\u001b[1;33m,\u001b[0m\u001b[1;33m\u001b[0m\u001b[1;33m\u001b[0m\u001b[0m\n\u001b[0;32m     14\u001b[0m                              \u001b[0mxi_ylims\u001b[0m\u001b[1;33m=\u001b[0m\u001b[1;33m[\u001b[0m\u001b[1;33m-\u001b[0m\u001b[1;36m1.7\u001b[0m\u001b[1;33m,\u001b[0m\u001b[1;36m3.6\u001b[0m\u001b[1;33m]\u001b[0m\u001b[1;33m,\u001b[0m\u001b[1;33m\u001b[0m\u001b[1;33m\u001b[0m\u001b[0m\n\u001b[1;32m---> 15\u001b[1;33m                              coeff_ylims=[-1,2.6])\n\u001b[0m\u001b[0;32m     16\u001b[0m \u001b[1;33m\u001b[0m\u001b[0m\n\u001b[0;32m     17\u001b[0m \u001b[1;31m# Show all the plots (pyplot command)\u001b[0m\u001b[1;33m\u001b[0m\u001b[1;33m\u001b[0m\u001b[1;33m\u001b[0m\u001b[0m\n",
      "\u001b[1;32m~\\Dan-Research\\Code\\BVP Paper\\tools\\plotter3.py\u001b[0m in \u001b[0;36mgenerate_analysis_plots\u001b[1;34m(self, save_stem, xlims, xi_ylims, coeff_ylims, ode_sols, num_sols)\u001b[0m\n\u001b[0;32m    290\u001b[0m         \u001b[0mfig\u001b[0m \u001b[1;33m=\u001b[0m \u001b[0mplt\u001b[0m\u001b[1;33m.\u001b[0m\u001b[0mfigure\u001b[0m\u001b[1;33m(\u001b[0m\u001b[0mfigsize\u001b[0m\u001b[1;33m=\u001b[0m\u001b[0mself\u001b[0m\u001b[1;33m.\u001b[0m\u001b[0mfigsize\u001b[0m\u001b[1;33m)\u001b[0m\u001b[1;33m\u001b[0m\u001b[1;33m\u001b[0m\u001b[0m\n\u001b[0;32m    291\u001b[0m         \u001b[0max\u001b[0m \u001b[1;33m=\u001b[0m \u001b[0mplt\u001b[0m\u001b[1;33m.\u001b[0m\u001b[0mgca\u001b[0m\u001b[1;33m(\u001b[0m\u001b[1;33m)\u001b[0m\u001b[1;33m\u001b[0m\u001b[1;33m\u001b[0m\u001b[0m\n\u001b[1;32m--> 292\u001b[1;33m         \u001b[0mself\u001b[0m\u001b[1;33m.\u001b[0m\u001b[0mplot_p_and_q\u001b[0m\u001b[1;33m(\u001b[0m\u001b[0max\u001b[0m\u001b[1;33m)\u001b[0m\u001b[1;33m\u001b[0m\u001b[1;33m\u001b[0m\u001b[0m\n\u001b[0m\u001b[0;32m    293\u001b[0m         \u001b[0mself\u001b[0m\u001b[1;33m.\u001b[0m\u001b[0mset_ax_lims\u001b[0m\u001b[1;33m(\u001b[0m\u001b[0max\u001b[0m\u001b[1;33m,\u001b[0m \u001b[0mxlims\u001b[0m\u001b[1;33m=\u001b[0m\u001b[0mxlims\u001b[0m\u001b[1;33m,\u001b[0m \u001b[0mylims\u001b[0m\u001b[1;33m=\u001b[0m\u001b[0mcoeff_ylims\u001b[0m\u001b[1;33m)\u001b[0m \u001b[1;31m# Set the axis limits, shading, etc\u001b[0m\u001b[1;33m\u001b[0m\u001b[1;33m\u001b[0m\u001b[0m\n\u001b[0;32m    294\u001b[0m         \u001b[0mself\u001b[0m\u001b[1;33m.\u001b[0m\u001b[0mformat_ticks\u001b[0m\u001b[1;33m(\u001b[0m\u001b[0max\u001b[0m\u001b[1;33m)\u001b[0m \u001b[1;31m# Set formatting for the axes' ticks/labels\u001b[0m\u001b[1;33m\u001b[0m\u001b[1;33m\u001b[0m\u001b[0m\n",
      "\u001b[1;32m~\\Dan-Research\\Code\\BVP Paper\\tools\\plotter3.py\u001b[0m in \u001b[0;36mplot_p_and_q\u001b[1;34m(self, ax)\u001b[0m\n\u001b[0;32m    164\u001b[0m \u001b[1;33m\u001b[0m\u001b[0m\n\u001b[0;32m    165\u001b[0m         \u001b[1;31m# Pull out the parametric coefficient for 'f'\u001b[0m\u001b[1;33m\u001b[0m\u001b[1;33m\u001b[0m\u001b[1;33m\u001b[0m\u001b[0m\n\u001b[1;32m--> 166\u001b[1;33m         \u001b[0mlearned_f_coeff\u001b[0m \u001b[1;33m=\u001b[0m \u001b[0mself\u001b[0m\u001b[1;33m.\u001b[0m\u001b[0mreg_coeffs\u001b[0m\u001b[1;33m[\u001b[0m\u001b[1;34m'f'\u001b[0m\u001b[1;33m]\u001b[0m\u001b[1;33m\u001b[0m\u001b[1;33m\u001b[0m\u001b[0m\n\u001b[0m\u001b[0;32m    167\u001b[0m         \u001b[1;31m# Compute learned parametric coefficient \\phi\u001b[0m\u001b[1;33m\u001b[0m\u001b[1;33m\u001b[0m\u001b[1;33m\u001b[0m\u001b[0m\n\u001b[0;32m    168\u001b[0m         \u001b[0minferred_phi\u001b[0m \u001b[1;33m=\u001b[0m \u001b[1;33m-\u001b[0m\u001b[1;36m1\u001b[0m\u001b[1;33m*\u001b[0m\u001b[0mnp\u001b[0m\u001b[1;33m.\u001b[0m\u001b[0mreciprocal\u001b[0m\u001b[1;33m(\u001b[0m\u001b[0mlearned_f_coeff\u001b[0m\u001b[1;33m)\u001b[0m\u001b[1;33m\u001b[0m\u001b[1;33m\u001b[0m\u001b[0m\n",
      "\u001b[1;31mKeyError\u001b[0m: 'f'"
     ]
    },
    {
     "data": {
      "image/png": "[encoded data removed]",
      "text/plain": [
       "<Figure size 504x252 with 1 Axes>"
      ]
     },
     "metadata": {},
     "output_type": "display_data"
    },
    {
     "data": {
      "image/png": "[encoded data removed]",
      "text/plain": [
       "<Figure size 504x252 with 1 Axes>"
      ]
     },
     "metadata": {
      "needs_background": "light"
     },
     "output_type": "display_data"
    }
   ],
   "source": [
    "### PLOT RESULTS\n",
    "\n",
    "# X vector from the first ODE solution\n",
    "x_vector = ode_sols[0].t\n",
    "\n",
    "# Construct a plotter object with groupreg (which stores results)\n",
    "pltr = Plotter(groupreg = groupreg, x_vector = x_vector,\n",
    "               dependent_variable='u', true_coeffs = sl_coeffs,\n",
    "               is_sturm_liouville = True, show_legends=False)\n",
    "\n",
    "# Generate the analysis plots: ODE solutions (first 3), p(x) and q(x), and u_xx model coefficients (entries in Xi)\n",
    "pltr.generate_analysis_plots(save_stem='3a-UO', \n",
    "                             ode_sols=ode_sols,\n",
    "                             xi_ylims=[-1.7,3.6],\n",
    "                             coeff_ylims=[-1,2.6])\n",
    "\n",
    "# Show all the plots (pyplot command)\n",
    "plt.show()"
   ]
  },
  {
   "cell_type": "code",
   "execution_count": null,
   "metadata": {},
   "outputs": [],
   "source": [
    "score_interval = [0.1,9.9]\n",
    "low_idcs = np.where(pltr.true_x_vector > score_interval[0])\n",
    "high_idcs = np.where(pltr.true_x_vector < score_interval[1])\n",
    "idcs = np.intersect1d(low_idcs, high_idcs)\n",
    "\n",
    "p_error = np.linalg.norm(pltr.inferred_phi[idcs] - pltr.p_x[idcs])/np.linalg.norm(pltr.p_x[idcs])\n",
    "print('L2 p error: %.4f' % (p_error))\n",
    "\n",
    "q_error = np.linalg.norm(pltr.inferred_q[idcs] - pltr.q_x[idcs])/np.linalg.norm(pltr.q_x[idcs])\n",
    "print('L2 q error: %.4f' % (q_error))"
   ]
  }
 ],
 "metadata": {
  "kernelspec": {
   "display_name": "Python 3",
   "language": "python",
   "name": "python3"
  },
  "language_info": {
   "codemirror_mode": {
    "name": "ipython",
    "version": 3
   },
   "file_extension": ".py",
   "mimetype": "text/x-python",
   "name": "python",
   "nbconvert_exporter": "python",
   "pygments_lexer": "ipython3",
   "version": "3.7.1"
  }
 },
 "nbformat": 4,
 "nbformat_minor": 2
}
