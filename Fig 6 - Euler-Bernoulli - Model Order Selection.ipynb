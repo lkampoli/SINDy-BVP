{
 "cells": [
  {
   "cell_type": "markdown",
   "metadata": {},
   "source": [
    "### Model Order Selection Figure\n",
    "\n",
    "How do you know to use u', u'', u''', etc for the LHS term?\n"
   ]
  },
  {
   "cell_type": "code",
   "execution_count": 1,
   "metadata": {},
   "outputs": [],
   "source": [
    "%load_ext autoreload\n",
    "%autoreload 2\n",
    "\n",
    "# Import Python packages\n",
    "import pickle\n",
    "\n",
    "# Third-Party Imports\n",
    "import numpy as np\n",
    "import matplotlib.pyplot as plt\n",
    "from sklearn.model_selection import train_test_split\n",
    "\n",
    "# Package Imports\n",
    "from sindy_bvp import SINDyBVP\n",
    "from sindy_bvp.differentiators import FiniteDifferences"
   ]
  },
  {
   "cell_type": "code",
   "execution_count": 2,
   "metadata": {},
   "outputs": [],
   "source": [
    "# Set file to load\n",
    "load_stem = \"./data/S4-EB-\""
   ]
  },
  {
   "cell_type": "code",
   "execution_count": 3,
   "metadata": {},
   "outputs": [
    {
     "name": "stdout",
     "output_type": "stream",
     "text": [
      "Completed: du/dx | d^{2}u/dx^{2} | d^{3}u/dx^{3} | d^{4}u/dx^{4} | d^{5}u/dx^{5} | d^{6}u/dx^{6} | CPU times: user 15min 20s, sys: 5min 56s, total: 21min 17s\n",
      "Wall time: 14min 19s\n"
     ]
    }
   ],
   "source": [
    "%%time\n",
    "\n",
    "# Set number of trials to use\n",
    "num_trials = 100\n",
    "diff_orders = list(range(1,7))\n",
    "\n",
    "# Create an empty results list\n",
    "results = []\n",
    "\n",
    "print(\"Completed:\", end=\" \")\n",
    "for i in diff_orders:\n",
    "    # Create outcome variable string\n",
    "    if i == 1:\n",
    "        outcome_var = 'du/dx'\n",
    "    else:\n",
    "        outcome_var = 'd^{{{}}}u/dx^{{{}}}'.format(i, i)\n",
    "\n",
    "    \n",
    "    # Initialize SINDyBVP object\n",
    "    sbvp = SINDyBVP(file_stem = load_stem,\n",
    "                    num_trials = num_trials,\n",
    "                    differentiator = FiniteDifferences(diff_order=i),\n",
    "                    outcome_var = outcome_var,\n",
    "                    noisemaker = None,\n",
    "                    known_vars = None,\n",
    "                    dep_var_name = 'u',\n",
    "                    ind_var_name = 'x')\n",
    "\n",
    "    # Execute the optimization\n",
    "    coeffs, plotter = sbvp.sindy_bvp()\n",
    "\n",
    "    # Compute the S-L coeffs with Plotter analysis tool\n",
    "    try:\n",
    "        plotter.compute_sl_coeffs()\n",
    "        p = plotter.inferred_phi\n",
    "        q = plotter.inferred_q\n",
    "    except:\n",
    "        p = None\n",
    "        q = None\n",
    "    \n",
    "    # gather the learned coefficients and relevant metrics\n",
    "    # And place into the results_list\n",
    "    results.append({'outcome_var': outcome_var,\n",
    "                    'p': p, \n",
    "                    'q': q,\n",
    "                    'coeffs': coeffs})\n",
    "    \n",
    "    print(outcome_var, end=\" | \")"
   ]
  },
  {
   "cell_type": "code",
   "execution_count": 4,
   "metadata": {},
   "outputs": [
    {
     "name": "stderr",
     "output_type": "stream",
     "text": [
      "/opt/conda/lib/python3.7/site-packages/sklearn/model_selection/_split.py:2179: FutureWarning: From version 0.21, test_size will always complement train_size unless both are specified.\n",
      "  FutureWarning)\n"
     ]
    }
   ],
   "source": [
    "# Gather some testing data that SINDy-BVP did not see in training\n",
    "# Load in the same data used above\n",
    "ode_sols = pickle.load(open(load_stem + \"sols.pickle\", \"rb\"))\n",
    "forcings = pickle.load(open(load_stem + \"fs.pickle\", \"rb\"))\n",
    "# Split it, using the same random state as above\n",
    "sol_train, sol_test, f_train, f_test = train_test_split(ode_sols,\n",
    "                                                        forcings,\n",
    "                                                        train_size=num_trials,\n",
    "                                                        random_state=0)\n",
    "\n",
    "# Use the build_dataframes method from most recent SINDy-BVP instance to create data pools\n",
    "test_dfs = sbvp.build_dataframes(sol_test, f_test)"
   ]
  },
  {
   "cell_type": "code",
   "execution_count": 5,
   "metadata": {},
   "outputs": [],
   "source": [
    "losses = []\n",
    "\n",
    "tf_cf = []\n",
    "\n",
    "for result in results:\n",
    "    coeffs = result[\"coeffs\"]\n",
    "    lhs_term = result[\"outcome_var\"]\n",
    "    if 'f' not in coeffs:\n",
    "        losses.append(1)\n",
    "        continue\n",
    "    # compute phi\n",
    "    phi = 1/coeffs['f']\n",
    "    # enumerate the other operator coefficients\n",
    "    operator_coeffs={}\n",
    "    for term in coeffs:\n",
    "        if term is not 'f':\n",
    "            operator_coeffs[term] = -1*np.multiply(phi,coeffs[term])\n",
    "    operator_coeffs[lhs_term] = phi.copy()\n",
    "    # compute losses\n",
    "    loss = 0\n",
    "    tf_cf_entry =[]\n",
    "    for test_df in test_dfs:\n",
    "        true_f = test_df['f']\n",
    "        computed_f = np.zeros(true_f.shape)\n",
    "        for term in operator_coeffs:\n",
    "            computed_f += np.multiply(operator_coeffs[term],test_df[term])\n",
    "        diff = true_f - computed_f\n",
    "        loss += np.linalg.norm(diff)/np.linalg.norm(true_f)\n",
    "        tf_cf_entry.append((true_f,computed_f))\n",
    "    tf_cf.append(tf_cf_entry)\n",
    "    losses.append(loss/len(test_dfs))"
   ]
  },
  {
   "cell_type": "code",
   "execution_count": 6,
   "metadata": {},
   "outputs": [
    {
     "data": {
      "image/png": "[encoded data removed]",
      "text/plain": [
       "<Figure size 432x288 with 1 Axes>"
      ]
     },
     "metadata": {},
     "output_type": "display_data"
    },
    {
     "data": {
      "image/png": "[encoded data removed]",
      "text/plain": [
       "<Figure size 864x57.6 with 1 Axes>"
      ]
     },
     "metadata": {},
     "output_type": "display_data"
    }
   ],
   "source": [
    "import matplotlib as mpl\n",
    "mpl.rcParams[\"legend.markerscale\"] = 1.5\n",
    "mpl.rcParams[\"legend.labelspacing\"] = 1.2\n",
    "mpl.rcParams[\"legend.handlelength\"] = 3.5\n",
    "mpl.rcParams[\"legend.handletextpad\"] = 20\n",
    "\n",
    "figsize = (6,4)\n",
    "# Create figure\n",
    "plt.figure(figsize=figsize)\n",
    "# set axes\n",
    "ax1 = plt.gca()\n",
    "# Plot the results\n",
    "plt.semilogy(diff_orders, losses, '-o', color='k')\n",
    "\n",
    "# Place the legend\n",
    "lines = ax1.get_lines()\n",
    "labels = [line.get_label() for line in lines]\n",
    "labels = ['' for line in lines]\n",
    "\n",
    "# Turn off all the tick labels\n",
    "ax1.tick_params(labelbottom=False, labelleft=False)\n",
    "\n",
    "# Save figure\n",
    "plt.savefig('./Figs/Fig6-modelselection-EB.svg', dpi=600, transparent=True)\n",
    "\n",
    "# Create separate axes\n",
    "legend_figsize = (figsize[0]*2, figsize[1]/5)\n",
    "plt.figure(figsize=legend_figsize)\n",
    "ax = plt.gca()\n",
    "for spine in ax.spines:\n",
    "    ax.spines[spine].set_visible(False)\n",
    "ax.tick_params(labelleft=False, labelbottom=False, left=False, bottom=False)\n",
    "plt.legend(lines, labels, ncol=2, loc='center', frameon=False)\n",
    "plt.savefig('./Figs/Fig6-legend.svg', dpi=600, transparent=True)\n",
    "\n",
    "\n",
    "plt.show()"
   ]
  },
  {
   "cell_type": "code",
   "execution_count": 7,
   "metadata": {},
   "outputs": [
    {
     "data": {
      "image/png": "[encoded data removed]",
      "text/plain": [
       "<Figure size 432x288 with 1 Axes>"
      ]
     },
     "metadata": {
      "needs_background": "light"
     },
     "output_type": "display_data"
    }
   ],
   "source": [
    "import matplotlib as mpl\n",
    "mpl.rcParams[\"legend.markerscale\"] = 1.5\n",
    "mpl.rcParams[\"legend.labelspacing\"] = 1.2\n",
    "mpl.rcParams[\"legend.handlelength\"] = 3.5\n",
    "mpl.rcParams[\"legend.handletextpad\"] = 20\n",
    "\n",
    "figsize = (6,4)\n",
    "# Create figure\n",
    "plt.figure(figsize=figsize)\n",
    "# set axes\n",
    "ax1 = plt.gca()\n",
    "# Plot the results\n",
    "plt.semilogy(diff_orders, losses, '-o', color='k')\n",
    "\n",
    "# Place the legend\n",
    "lines = ax1.get_lines()\n",
    "labels = [line.get_label() for line in lines]\n",
    "labels = ['' for line in lines]\n",
    "\n",
    "plt.show()"
   ]
  }
 ],
 "metadata": {
  "kernelspec": {
   "display_name": "Python 3",
   "language": "python",
   "name": "python3"
  },
  "language_info": {
   "codemirror_mode": {
    "name": "ipython",
    "version": 3
   },
   "file_extension": ".py",
   "mimetype": "text/x-python",
   "name": "python",
   "nbconvert_exporter": "python",
   "pygments_lexer": "ipython3",
   "version": "3.7.3"
  }
 },
 "nbformat": 4,
 "nbformat_minor": 2
}
